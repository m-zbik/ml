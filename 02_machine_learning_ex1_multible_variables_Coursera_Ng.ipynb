{
 "metadata": {
  "name": "",
  "signature": "sha256:28abdbba750e8499a162cf3b5d9c462fec91f8e46b7bf2b0f92b0b528118c083"
 },
 "nbformat": 3,
 "nbformat_minor": 0,
 "worksheets": [
  {
   "cells": [
    {
     "cell_type": "heading",
     "level": 1,
     "metadata": {},
     "source": [
      "Machine Learning ex1 (coursera Ng): multiple regression"
     ]
    },
    {
     "cell_type": "heading",
     "level": 2,
     "metadata": {},
     "source": [
      "Goal"
     ]
    },
    {
     "cell_type": "markdown",
     "metadata": {},
     "source": [
      "The goals of this exercise are to implement multivariate linear regression (including feature normalization), and the normal equation. Also a goal is to build intuition around choosing learning rates."
     ]
    },
    {
     "cell_type": "heading",
     "level": 2,
     "metadata": {},
     "source": [
      "Use Case"
     ]
    },
    {
     "cell_type": "markdown",
     "metadata": {},
     "source": [
      "Similar to univariate linear regression, multivariate regression is a supervised learning algorithms. It is best used for contiuous valued output when the data is two or more independent variables and one dependent variable. Univariate regression is a special case where a straight line is a good fit for the data, whereas multivariate regression uses polynomials.\n",
      "\n",
      "Intuitively, univariate uses one feature to relate to the output, while mutivariate uses multiple features."
     ]
    },
    {
     "cell_type": "heading",
     "level": 2,
     "metadata": {},
     "source": [
      "Part 1: Feature Normalization"
     ]
    },
    {
     "cell_type": "code",
     "collapsed": false,
     "input": [
      "import numpy as np\n",
      "import matplotlib.pyplot as plt\n",
      "from IPython.display import display, clear_output"
     ],
     "language": "python",
     "metadata": {},
     "outputs": [],
     "prompt_number": 1
    },
    {
     "cell_type": "code",
     "collapsed": false,
     "input": [
      "# Load data\n",
      "\n",
      "data = [[float(i) for i in line[:-2].split(',')] for line in file('ex1data2.txt')]\n",
      "\n",
      "X = np.array([data[i][0:2] for i in range(len(data))])\n",
      "y = np.array([[data[i][2] for i in range(len(data))]]).T  # extra brackets to make this 2D, and therefore transposable\n",
      "m = len(data)-1"
     ],
     "language": "python",
     "metadata": {},
     "outputs": [],
     "prompt_number": 2
    },
    {
     "cell_type": "code",
     "collapsed": false,
     "input": [
      "# Print some data points\n",
      "\n",
      "print '\\nFirst 10 examples from the data set: \\n'\n",
      "for i in range(10):\n",
      "    print ' x = %.0f %.0f, y = %.0f' % (X[i][0], X[i][1], y[i])"
     ],
     "language": "python",
     "metadata": {},
     "outputs": [
      {
       "output_type": "stream",
       "stream": "stdout",
       "text": [
        "\n",
        "First 10 examples from the data set: \n",
        "\n",
        " x = 2104 3, y = 399900\n",
        " x = 1600 3, y = 329900\n",
        " x = 2400 3, y = 369000\n",
        " x = 1416 2, y = 232000\n",
        " x = 3000 4, y = 539900\n",
        " x = 1985 4, y = 299900\n",
        " x = 1534 3, y = 314900\n",
        " x = 1427 3, y = 198999\n",
        " x = 1380 3, y = 212000\n",
        " x = 1494 3, y = 242500\n"
       ]
      }
     ],
     "prompt_number": 3
    },
    {
     "cell_type": "code",
     "collapsed": false,
     "input": [
      "def feature_normalize(x):\n",
      "    m = np.size(x, 0)\n",
      "    mu = np.mean(x, axis=0)\n",
      "    sigma = np.std(x, ddof=1, axis=0)  #ddof = 1 is the matlab/octave default . . . divide by n-1, not n\n",
      "    # repeated_sigma = np.tile(sigma, (m, 1))  # octave's repmat command, but not necessary in Python/numpy\n",
      "    x_norm = (x - mu)/sigma\n",
      "    return x_norm, mu, sigma"
     ],
     "language": "python",
     "metadata": {},
     "outputs": [],
     "prompt_number": 4
    },
    {
     "cell_type": "code",
     "collapsed": false,
     "input": [
      "# Scale features and set them to zero mean. Add intercept.\n",
      "\n",
      "X, mu, sigma = feature_normalize(X)\n",
      "X = np.insert(X, 0, 1, axis=1)  # Add intercept term (a column of ones) to x along vertical axis\n",
      "\n",
      "print '\\nFirst 10 examples from the data set, NORMALIZED and WITH INTERCEPT: \\n'\n",
      "for i in range(10):\n",
      "    print ' x = % .2f % .2f % .2f, y = % .0f' % (X[i][0], X[i][1], X[i][2], y[i])  # space before .2f prints space for positive numbers"
     ],
     "language": "python",
     "metadata": {},
     "outputs": [
      {
       "output_type": "stream",
       "stream": "stdout",
       "text": [
        "\n",
        "First 10 examples from the data set, NORMALIZED and WITH INTERCEPT: \n",
        "\n",
        " x =  1.00  0.13 -0.22, y =  399900\n",
        " x =  1.00 -0.50 -0.22, y =  329900\n",
        " x =  1.00  0.50 -0.22, y =  369000\n",
        " x =  1.00 -0.74 -1.54, y =  232000\n",
        " x =  1.00  1.26  1.09, y =  539900\n",
        " x =  1.00 -0.02  1.09, y =  299900\n",
        " x =  1.00 -0.59 -0.22, y =  314900\n",
        " x =  1.00 -0.72 -0.22, y =  198999\n",
        " x =  1.00 -0.78 -0.22, y =  212000\n",
        " x =  1.00 -0.64 -0.22, y =  242500\n"
       ]
      }
     ],
     "prompt_number": 5
    },
    {
     "cell_type": "heading",
     "level": 2,
     "metadata": {},
     "source": [
      "Part 2: Gradient Descent with Multiple Variables"
     ]
    },
    {
     "cell_type": "markdown",
     "metadata": {},
     "source": [
      "Linear regression with a single independent variable was previously implemented.<br>\n",
      "The objective of linear regression with multiple independent variables is the same: minimize the cost function\n",
      "$$J(\\theta) = \\frac{1}{2m}\\sum\\limits_{i=1}^{m} (h_\\theta(x^{(i)}) - y^{(i)})^2$$\n",
      "\n",
      "where the hypothesis $h_\\theta(x)$ is given by the linear model\n",
      "\n",
      "$$h_\\theta(x) = \\theta^Tx = \\theta_0 + \\theta_1x_1 + \\theta_2x_2 \\,\\, + \\,\\, . . . \\,\\, + \\,\\, \\theta_nx_n$$\n",
      "\n",
      "One way to do this is with batch gradient descent. Each iteration performs the update:\n",
      "\n",
      "$$\\theta_j := \\theta_j - \\alpha\\frac{1}{m}\\sum\\limits_{i=1}^{m} (h_\\theta(x^{(i)}) - y^{(i)})x_j^{(i)}$$\n",
      "\n",
      "With each step of gradient descent your parameters $\\theta_j$ come closer to minimizing cost $J(\\theta)$."
     ]
    },
    {
     "cell_type": "markdown",
     "metadata": {},
     "source": [
      "Note that cost function can be rewritten in vectorized form as:\n",
      "\n",
      "$$J(\\theta) = \\frac{1}{2m}(X\\theta - \\vec{y})^T(X\\theta - \\vec{y})$$"
     ]
    },
    {
     "cell_type": "code",
     "collapsed": false,
     "input": [
      "def compute_cost(X, y, theta):\n",
      "    \"\"\"\n",
      "    Return cost J(theta) as a scalar, according to above formula\n",
      "    \"\"\"\n",
      "    m = len(y)\n",
      "    J = sum((np.dot(X,theta) - y)**2)/(2*m)\n",
      "    return J[0]  # return scalar J[0], not 1D matrix J"
     ],
     "language": "python",
     "metadata": {},
     "outputs": [],
     "prompt_number": 6
    },
    {
     "cell_type": "markdown",
     "metadata": {},
     "source": [
      "$$\\theta_j := \\theta_j - \\alpha\\frac{1}{m}\\sum\\limits_{i=1}^{m} (h_\\theta(x^{(i)}) - y^{(i)})x_j^{(i)}$$"
     ]
    },
    {
     "cell_type": "code",
     "collapsed": false,
     "input": [
      "def gradient_descent_multi(X, y, theta, alpha, num_iters):\n",
      "    \"\"\"\n",
      "    Return theta and J_history (cost at each iteration) after running gradient descent num_iters times,\n",
      "    according to above formula for linear regression.\n",
      "    Handles any number of independent variables.\n",
      "    \"\"\"\n",
      "    m = len(y)\n",
      "    J_history = np.zeros((num_iters, 1))\n",
      "    for i in range(num_iters):\n",
      "        differences = X.dot(theta) - y\n",
      "        theta -= (alpha/m) * differences.T.dot(X).T\n",
      "        J_history[i] = compute_cost(X, y, theta)\n",
      "    return theta, J_history"
     ],
     "language": "python",
     "metadata": {},
     "outputs": [],
     "prompt_number": 7
    },
    {
     "cell_type": "code",
     "collapsed": false,
     "input": [
      "# Prepare parameters\n",
      "\n",
      "alpha = .3\n",
      "num_iters = 20\n",
      "theta = np.zeros((3, 1))\n",
      "\n",
      "# Run gradient descent\n",
      "\n",
      "theta, J_history = gradient_descent_multi(X, y, theta, alpha, num_iters)\n",
      "print 'Theta computed from gradient descent:\\n', theta\n",
      "\n",
      "# Plot convergence graph\n",
      "\n",
      "clear_output()\n",
      "plt.clf()\n",
      "plt.figure(figsize=(10, 7))  # 10\" wide, 7\" tall  but about half this size on iPython notebook\n",
      "plt.plot(range(1, np.size(J_history) + 1), J_history, '-b')\n",
      "plt.xlabel('Number of iterations')\n",
      "plt.ylabel('Cost J')\n",
      "plt.title(r'Convergence graph for $\\alpha = $' + str(alpha)  + '(blue)', fontsize=16)\n",
      "display()"
     ],
     "language": "python",
     "metadata": {},
     "outputs": [
      {
       "metadata": {},
       "output_type": "display_data",
       "text": [
        "<matplotlib.figure.Figure at 0x7ff04ed86c10>"
       ]
      },
      {
       "metadata": {},
       "output_type": "display_data",
       "png": "[encoded data removed]",
       "text": [
        "<matplotlib.figure.Figure at 0x7ff04ed86390>"
       ]
      }
     ],
     "prompt_number": 8
    },
    {
     "cell_type": "raw",
     "metadata": {},
     "source": [
      "Now we will try a few different values for alpha to see what effect it has on the rate\n",
      "at which theta converages to values which minimize cost.\n",
      "\n",
      "Convergence is much slower with (too low) alpha = 0.1 (in cyan)"
     ]
    },
    {
     "cell_type": "code",
     "collapsed": false,
     "input": [
      "alpha = .1\n",
      "num_iters = 20\n",
      "theta = np.zeros((3, 1))\n",
      "theta, J_history = gradient_descent_multi(X, y, theta, alpha, num_iters)\n",
      "print 'Theta computed from gradient descent:\\n', theta\n",
      "plt.plot(range(1, np.size(J_history) + 1), J_history, color='cyan')\n",
      "plt.title(r'Convergence graph for $\\alpha = $' + str(alpha) + '(cyan)', fontsize=16)\n",
      "display()"
     ],
     "language": "python",
     "metadata": {},
     "outputs": [
      {
       "output_type": "stream",
       "stream": "stdout",
       "text": [
        "Theta computed from gradient descent:\n",
        "[[ 299026.42724313]\n",
        " [  84426.83623628]\n",
        " [  15770.92624255]]\n"
       ]
      },
      {
       "metadata": {},
       "output_type": "display_data",
       "png": "[encoded data removed]",
       "text": [
        "<matplotlib.figure.Figure at 0x7ff04ed86390>"
       ]
      }
     ],
     "prompt_number": 9
    },
    {
     "cell_type": "raw",
     "metadata": {},
     "source": [
      "Does not converge with (too high) alpha = 1.35 (red)"
     ]
    },
    {
     "cell_type": "code",
     "collapsed": false,
     "input": [
      "alpha = 1.35\n",
      "num_iters = 20\n",
      "theta = np.zeros((3, 1))\n",
      "theta, J_history = gradient_descent_multi(X, y, theta, alpha, num_iters)\n",
      "print 'Theta computed from gradient descent:\\n', theta\n",
      "plt.plot(range(1, np.size(J_history) + 1), J_history, color='red')\n",
      "plt.title(r'Convergence graph for $\\alpha = $' + str(alpha) + '(red)', fontsize=16)\n",
      "display()"
     ],
     "language": "python",
     "metadata": {},
     "outputs": [
      {
       "output_type": "stream",
       "stream": "stdout",
       "text": [
        "Theta computed from gradient descent:\n",
        "[[ 340412.65931543]\n",
        " [ -59760.04252111]\n",
        " [-177040.5638711 ]]\n"
       ]
      },
      {
       "metadata": {},
       "output_type": "display_data",
       "png": "[encoded data removed]",
       "text": [
        "<matplotlib.figure.Figure at 0x7ff04ed86390>"
       ]
      }
     ],
     "prompt_number": 10
    },
    {
     "cell_type": "raw",
     "metadata": {},
     "source": [
      "Convergance is very fast with a (nearly optimal) alpha of 0.9 (green)"
     ]
    },
    {
     "cell_type": "code",
     "collapsed": false,
     "input": [
      "alpha = 0.9\n",
      "num_iters = 20\n",
      "theta = np.zeros((3, 1))\n",
      "theta, J_history = gradient_descent_multi(X, y, theta, alpha, num_iters)\n",
      "print 'Theta computed from gradient descent:\\n', theta\n",
      "plt.plot(range(1, np.size(J_history) + 1), J_history, color='green')\n",
      "plt.title(r'Convergence graph for $\\alpha = $' + str(alpha) + '(green)', fontsize=16)\n",
      "display()"
     ],
     "language": "python",
     "metadata": {},
     "outputs": [
      {
       "output_type": "stream",
       "stream": "stdout",
       "text": [
        "Theta computed from gradient descent:\n",
        "[[ 340412.65957447]\n",
        " [ 110627.82273533]\n",
        " [  -6646.247027  ]]\n"
       ]
      },
      {
       "metadata": {},
       "output_type": "display_data",
       "png": "[encoded data removed]",
       "text": [
        "<matplotlib.figure.Figure at 0x7ff04ed86390>"
       ]
      }
     ],
     "prompt_number": 11
    },
    {
     "cell_type": "code",
     "collapsed": false,
     "input": [
      "normalized_x = (np.array([1650, 3]) - mu)/sigma  # normalize x because theta values are based on normalized data\n",
      "price = np.array(np.insert(normalized_x, 0, 1, axis=0)).dot(theta)\n",
      "\n",
      "print '\\nPredicted price of a 1650 sq-ft, 3 br house (using gradient descent): ', price[0]"
     ],
     "language": "python",
     "metadata": {},
     "outputs": [
      {
       "output_type": "stream",
       "stream": "stdout",
       "text": [
        "\n",
        "Predicted price of a 1650 sq-ft, 3 br house (using gradient descent):  293082.166709\n"
       ]
      }
     ],
     "prompt_number": 12
    },
    {
     "cell_type": "heading",
     "level": 2,
     "metadata": {},
     "source": [
      "Part 3: Normal Equation"
     ]
    },
    {
     "cell_type": "markdown",
     "metadata": {},
     "source": [
      "A closed form (requiring no iteration) solution for linear regression is the normal equation\n",
      "\n",
      "$$J(\\theta) = (X^TX)^{-1}X^T\\vec{y}$$"
     ]
    },
    {
     "cell_type": "code",
     "collapsed": false,
     "input": [
      "def normal_equation(X, y):\n",
      "    \"\"\"\n",
      "    Return's theta using the normal equation(above) for linear regression.\n",
      "    \"\"\"\n",
      "    theta = np.linalg.pinv(X.T.dot(X)).dot(X.T).dot(y)\n",
      "    return theta"
     ],
     "language": "python",
     "metadata": {},
     "outputs": [],
     "prompt_number": 13
    },
    {
     "cell_type": "code",
     "collapsed": false,
     "input": [
      "# Load data\n",
      "\n",
      "data = [[float(i) for i in line[:-2].split(',')] for line in file('ex1data2.txt')]\n",
      "X = np.array([data[i][0:2] for i in range(len(data))])\n",
      "y = np.array([[data[i][2] for i in range(len(data))]]).T  # extra brackets to make this 2D, and therefore transposable\n",
      "m = len(data)-1\n",
      "\n",
      "X = np.insert(X, 0, 1, axis=1)  # Add intercept term (a column of ones) to x along vertical axis\n",
      "\n",
      "# Compute theta from normal equation, then print results\n",
      "theta = normal_equation(X, y)\n",
      "\n",
      "print 'Theta computed from the normal equations:\\n', theta\n",
      "\n",
      "price = np.array([[1, 1650, 3]]).dot(theta)\n",
      "\n",
      "print '\\nPredicted price of a 1650 sq-ft, 3 br house (using normal equations): ', price[0][0]"
     ],
     "language": "python",
     "metadata": {},
     "outputs": [
      {
       "output_type": "stream",
       "stream": "stdout",
       "text": [
        "Theta computed from the normal equations:\n",
        "[[ 89597.90954435]\n",
        " [   139.21067402]\n",
        " [ -8738.01911278]]\n",
        "\n",
        "Predicted price of a 1650 sq-ft, 3 br house (using normal equations):  293081.464335\n"
       ]
      }
     ],
     "prompt_number": 14
    },
    {
     "cell_type": "raw",
     "metadata": {},
     "source": [
      "The predicted housing price is approximately the same using the two different methods, so we know that they were both correctly implemented."
     ]
    },
    {
     "cell_type": "markdown",
     "metadata": {},
     "source": [
      "# References\n",
      "- [Andrew NG](https://www.coursera.org/course/ml)\n",
      "- [Joe Golton](https://github.com/FilterJoe/machine_learning_Ng_iPythonNotebooks/tree/master/)"
     ]
    }
   ],
   "metadata": {}
  }
 ]
}