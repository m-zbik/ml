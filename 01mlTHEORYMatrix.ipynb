{
 "metadata": {
  "name": "",
  "signature": "sha256:e640938b54cb0439d9c77ce4af8c299788a524b5a82d3d7f45e24eb9374aa058"
 },
 "nbformat": 3,
 "nbformat_minor": 0,
 "worksheets": [
  {
   "cells": [
    {
     "cell_type": "heading",
     "level": 1,
     "metadata": {},
     "source": [
      "Machine Learning ex1 (coursera Ng): Matrix Review"
     ]
    },
    {
     "cell_type": "markdown",
     "metadata": {},
     "source": [
      "<i>Materials prepared by: <br>\n",
      "Mateusz Zbikowski and Michal Zbikowski<br>\n",
      "Please check the references on which materials where based. </i>"
     ]
    },
    {
     "cell_type": "markdown",
     "metadata": {},
     "source": [
      "## Matrix introduction\n",
      "Check the intro presentation\n",
      "- Matrix dimension\n",
      "- Adding and subtracting matrix\n",
      "- Matrix multiplication\n",
      "<img src=\"PicturesForTheory/mlANgMatrix01.png\"> <br>\n",
      "<img src=\"PicturesForTheory/mlANgMatrix02.png\"> <br>\n",
      "<img src=\"PicturesForTheory/mlANgMatrix03.png\"> <br>\n",
      "<img src=\"PicturesForTheory/mlANgMatrix04.png\"> <br>\n",
      "<img src=\"PicturesForTheory/mlANgMatrix05.png\"> <br>\n",
      "<img src=\"PicturesForTheory/mlANgMatrix06.png\"> <br>"
     ]
    },
    {
     "cell_type": "markdown",
     "metadata": {},
     "source": [
      "..."
     ]
    },
    {
     "cell_type": "markdown",
     "metadata": {},
     "source": [
      "## Matrix in linear equations system\n",
      "<img src=\"PicturesForTheory/mlANgMatrix07.png\"> <br>\n",
      "<img src=\"PicturesForTheory/mlANgMatrix08.png\"> <br>"
     ]
    },
    {
     "cell_type": "markdown",
     "metadata": {},
     "source": [
      "## More about matrix\n",
      "<img src=\"PicturesForTheory/mlANgMatrix09.png\"> <br>\n",
      "<img src=\"PicturesForTheory/mlANgMatrix10.png\"> <br>"
     ]
    },
    {
     "cell_type": "markdown",
     "metadata": {},
     "source": [
      "## Inverse matrix\n",
      "<img src=\"PicturesForTheory/mlANgMatrix11.png\"> <br>\n",
      "\n",
      "### Square matrix A has an inverse if and only if its determinant is not zero (detA $\\neq$ 0)\n",
      "<img src=\"PicturesForTheory/mlANgMatrix16.png\"> <br>\n",
      "<img src=\"PicturesForTheory/mlANgMatrix17.png\"> <br>"
     ]
    },
    {
     "cell_type": "markdown",
     "metadata": {},
     "source": [
      "## Transpose Matrix\n",
      "<img src=\"PicturesForTheory/mlANgMatrix12.png\"> <br>"
     ]
    },
    {
     "cell_type": "markdown",
     "metadata": {},
     "source": [
      "## Determinant\n",
      "### Matrix 2x2\n",
      "<img src=\"PicturesForTheory/mlANgMatrix13.png\"> <br>\n",
      "### Matrix 3x3\n",
      "<img src=\"PicturesForTheory/mlANgMatrix14.png\"> <br>\n",
      "or Sarus method\n",
      "<img src=\"PicturesForTheory/mlANgMatrix15.png\"> <br>\n",
      "Det = <img src=\"PicturesForTheory/mlANgMatrix28.png\"> <br>\n",
      "### Matrix nxn\n",
      "#### Laplace's formula and the adjugate matrix\n",
      "<img src=\"PicturesForTheory/mlANgMatrix18.png\"> <br>\n",
      "where adjugate matrix is a transpose of the cofactor matrix.\n",
      "<img src=\"PicturesForTheory/mlANgMatrix19.png\"> <br>\n",
      "before we go further we need to know what a minor is:\n",
      "- minor of a matrix A is the determinant of some smaller square matrix, cut down from A by removing one or more of its rows or columns. Minors obtained by removing just one row and one column from square matrices (first minors) are required for calculating matrix cofactors, which in turn are useful for computing both the determinant and inverse of square matrices.\n",
      "\n",
      "As an example we have matrs A = <img src=\"PicturesForTheory/mlANgMatrix20.png\"> <br>\n",
      "Minor $M_{2x3}$:<img src=\"PicturesForTheory/mlANgMatrix21.png\"> <br>\n",
      "cofactor of the (2,3) entry is:\n",
      "<img src=\"PicturesForTheory/mlANgMatrix22.png\"> <br>\n",
      "determinant A = <img src=\"PicturesForTheory/mlANgMatrix23.png\"> <br>\n",
      "using using Cramer's rule we can can now calculate the inverse of square matrix A by using its cofactor matrix C: <img src=\"PicturesForTheory/mlANgMatrix24.png\"> <br>\n",
      "as follows: <img src=\"PicturesForTheory/mlANgMatrix25.png\"> <br>\n",
      "\n",
      "Example:\n",
      "<img src=\"PicturesForTheory/mlANgMatrix26.png\"> <br>\n",
      "<img src=\"PicturesForTheory/mlANgMatrix27.png\"> <br>"
     ]
    },
    {
     "cell_type": "markdown",
     "metadata": {},
     "source": [
      "# References\n",
      "- [Andrew NG](https://www.coursera.org/course/ml)\n",
      "- [Joe Golton](https://github.com/FilterJoe/machine_learning_Ng_iPythonNotebooks/tree/master/)"
     ]
    }
   ],
   "metadata": {}
  }
 ]
}