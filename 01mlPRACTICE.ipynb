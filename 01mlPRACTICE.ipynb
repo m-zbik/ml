{
 "metadata": {
  "name": "",
  "signature": "sha256:6c04089139714b64eea7b671ef0d5bdbe403b7cc53eb8c50a67c5506704e9e22"
 },
 "nbformat": 3,
 "nbformat_minor": 0,
 "worksheets": [
  {
   "cells": [
    {
     "cell_type": "heading",
     "level": 1,
     "metadata": {},
     "source": [
      "Machine Learning ex1: practicing Python, R, Octave/Matlab, Java1"
     ]
    },
    {
     "cell_type": "markdown",
     "metadata": {},
     "source": [
      "<i>Materials prepared by: <br>\n",
      "Mateusz Zbikowski and Michal Zbikowski<br>\n",
      "Please check the references on which materials where based. </i>"
     ]
    },
    {
     "cell_type": "heading",
     "level": 2,
     "metadata": {},
     "source": [
      "Wakari"
     ]
    },
    {
     "cell_type": "markdown",
     "metadata": {},
     "source": [
      "- Create [Wakari account](https://wakari.io/)\n",
      "- Read the 01_notebook_introduction in Wakari\n",
      "- Read about [Markdown](https://guides.github.com/features/mastering-markdown/) and [LaTeX](http://mintaka.sdsu.edu/GF/bibliog/latex/latex_top.html) ([latex on github](https://github.com/AdilVirani/LaTeX-Guide))\n"
     ]
    },
    {
     "cell_type": "heading",
     "level": 2,
     "metadata": {},
     "source": [
      "Intro to python"
     ]
    },
    {
     "cell_type": "markdown",
     "metadata": {},
     "source": [
      "1. [CodeAcademy](www.codeacademy.com)\n",
      "2. Chec the 01mlPythonROctaveJavaReview\n"
     ]
    },
    {
     "cell_type": "heading",
     "level": 2,
     "metadata": {},
     "source": [
      "R, Octave/Matlab and Java"
     ]
    },
    {
     "cell_type": "markdown",
     "metadata": {},
     "source": [
      "1. Chec the 01mlPythonROctaveJavaReview"
     ]
    },
    {
     "cell_type": "markdown",
     "metadata": {},
     "source": [
      "##1. Generate random matrix:\n",
      "- M1 dimention [5x5], \n",
      "- M2 dimention [8x5], \n",
      "- M3 dimention [5x15], \n",
      "- M4 dimention [5x8]"
     ]
    },
    {
     "cell_type": "markdown",
     "metadata": {},
     "source": [
      "##2. Calculate:\n",
      "- M1xM1, M1x(M2Transposed), M2xM3\n",
      "- M1+M2xM4 => M5\n",
      "- Add extra column of ones to the newly created matrix M5"
     ]
    },
    {
     "cell_type": "markdown",
     "metadata": {},
     "source": [
      "##3. Create matrix\n",
      "- diagonal matrix diagM  [5x5], elements type intiger\n",
      "- diagonal matrix diagM1 [6x5], elements type float, with diagonal moved up by 2\n",
      "- diagonal matrix diagM2 [6x5], elements type intiger, with diagonal moved down by 2\n",
      "- matrix with zero valuse zeroM [3x2]"
     ]
    },
    {
     "cell_type": "markdown",
     "metadata": {},
     "source": [
      "##4. Import Data with \n",
      "- one independent variable \n",
      "- one dependent variable\n",
      "- not less than 70 examples."
     ]
    },
    {
     "cell_type": "markdown",
     "metadata": {},
     "source": [
      "##5. visualize data by \n",
      "- printing report about dimension and type of matrix \n",
      "- ploting the data (show the plot in the new window and plot it inline)"
     ]
    },
    {
     "cell_type": "markdown",
     "metadata": {},
     "source": [
      "##6. Gradient Descent"
     ]
    },
    {
     "cell_type": "markdown",
     "metadata": {},
     "source": [
      "- create vectorized $J(\\theta)$ by defining function compute_vcost(X, y, theta)\n",
      "$$J(\\theta) = \\frac{1}{2m}(X\\theta - \\vec{y})^T(X\\theta - \\vec{y})$$\n",
      "- create cost function using formula:\n",
      "$$J(\\theta) = \\frac{1}{2m}\\sum\\limits_{i=1}^{m} (h_\\theta(x^{(i)}) - y^{(i)})^2$$\n",
      "by defining function compute_cost(X, y, theta)\n"
     ]
    },
    {
     "cell_type": "markdown",
     "metadata": {},
     "source": [
      " ##7. Plot the $J(\\theta)$cost in a function of number of iterations\n",
      " $J(\\theta)$ should never increase, and should converge to a steady value by the end of the algorithm"
     ]
    },
    {
     "cell_type": "markdown",
     "metadata": {},
     "source": [
      "..."
     ]
    },
    {
     "cell_type": "code",
     "collapsed": false,
     "input": [
      "# Prepare parameters\n",
      "X = np.insert(X, 0, 1, axis=1)  # Add a column of ones to x to take into account intercept term theta_0\n",
      "theta = np.zeros((2, 1))  # initialize fitting parameters\n",
      "\n",
      "# Some gradient descent settings\n",
      "iterations = 1500\n",
      "alpha = 0.01\n"
     ],
     "language": "python",
     "metadata": {},
     "outputs": [],
     "prompt_number": 9
    },
    {
     "cell_type": "markdown",
     "metadata": {},
     "source": [
      "$$J(\\theta) = \\frac{1}{2m}\\sum\\limits_{i=1}^{m} (h_\\theta(x^{(i)}) - y^{(i)})^2$$\n",
      "\n",
      "Note that cost function can be rewritten in vectorized form as:\n",
      "\n",
      "$$J(\\theta) = \\frac{1}{2m}(X\\theta - \\vec{y})^T(X\\theta - \\vec{y})$$"
     ]
    },
    {
     "cell_type": "code",
     "collapsed": false,
     "input": [
      "def compute_cost(X, y, theta):\n",
      "    \"\"\"\n",
      "    Return cost J(theta) as a scalar, according to above cost formula\n",
      "    \"\"\"\n",
      "    m = len(y)\n",
      "    h_theta = np.dot(X, theta)        # dot is matrix multiplication (dot product)\n",
      "    J = sum((h_theta - y)**2)/(2*m)   # * is element by element multiplication (in this case, scalar * matrix)\n",
      "    return J[0]                       # return scalar J[0], not 1D matrix J"
     ],
     "language": "python",
     "metadata": {},
     "outputs": [],
     "prompt_number": 10
    },
    {
     "cell_type": "code",
     "collapsed": false,
     "input": [
      "# compute and display initial cost\n",
      "print \"Initial Cost J should be approximately 32.07. Actual is:\", compute_cost(X, y, theta)\n"
     ],
     "language": "python",
     "metadata": {},
     "outputs": [
      {
       "output_type": "stream",
       "stream": "stdout",
       "text": [
        "Initial Cost J should be approximately 32.07. Actual is: 32.0727338775\n"
       ]
      }
     ],
     "prompt_number": 11
    },
    {
     "cell_type": "markdown",
     "metadata": {},
     "source": [
      "$$\\theta_j := \\theta_j - \\alpha\\frac{1}{m}\\sum\\limits_{i=1}^{m} (h_\\theta(x^{(i)}) - y^{(i)})x_j^{(i)}$$"
     ]
    },
    {
     "cell_type": "code",
     "collapsed": false,
     "input": [
      "def gradient_descent(X, y, theta, alpha, num_iters):\n",
      "    \"\"\"\n",
      "    Return theta and J_history (cost at each iteration) after running gradient descent num_iters times,\n",
      "    according to above formula for linear regression.\n",
      "    Handles only a single independent variable (linear regression): len(theta) = 2\n",
      "    \"\"\"\n",
      "    m = len(y)\n",
      "    J_history = np.zeros((num_iters, 1))\n",
      "\n",
      "    for i in range(num_iters):\n",
      "        differences = X.dot(theta) - y\n",
      "        temp_theta0 = theta[0] - (alpha/m) * sum(differences)\n",
      "        temp_theta1 = theta[1] - (alpha/m) * sum(differences * X[:,1][:, np.newaxis])\n",
      "\n",
      "        theta[0][0] = temp_theta0[0]\n",
      "        theta[1][0] = temp_theta1[0]\n",
      "\n",
      "        J_history[i] = compute_cost(X, y, theta)\n",
      "    return theta, J_history"
     ],
     "language": "python",
     "metadata": {},
     "outputs": [],
     "prompt_number": 3
    },
    {
     "cell_type": "code",
     "collapsed": false,
     "input": [
      "# run gradient descent and print resulting theta\n",
      "theta, J_history = gradient_descent(X, y, theta, alpha, iterations)\n",
      "\n",
      "print 'Theta found by gradient descent: '\n",
      "print theta.tolist()\n",
      "print '\\ntheta should be ~ [[-3.630], [1.166]]\\n'"
     ],
     "language": "python",
     "metadata": {},
     "outputs": [
      {
       "ename": "NameError",
       "evalue": "name 'X' is not defined",
       "output_type": "pyerr",
       "traceback": [
        "\u001b[1;31m---------------------------------------------------------------------------\u001b[0m\n\u001b[1;31mNameError\u001b[0m                                 Traceback (most recent call last)",
        "\u001b[1;32m<ipython-input-4-fb2b713110f3>\u001b[0m in \u001b[0;36m<module>\u001b[1;34m()\u001b[0m\n\u001b[0;32m      1\u001b[0m \u001b[1;31m# run gradient descent and print resulting theta\u001b[0m\u001b[1;33m\u001b[0m\u001b[1;33m\u001b[0m\u001b[0m\n\u001b[1;32m----> 2\u001b[1;33m \u001b[0mtheta\u001b[0m\u001b[1;33m,\u001b[0m \u001b[0mJ_history\u001b[0m \u001b[1;33m=\u001b[0m \u001b[0mgradient_descent\u001b[0m\u001b[1;33m(\u001b[0m\u001b[0mX\u001b[0m\u001b[1;33m,\u001b[0m \u001b[0my\u001b[0m\u001b[1;33m,\u001b[0m \u001b[0mtheta\u001b[0m\u001b[1;33m,\u001b[0m \u001b[0malpha\u001b[0m\u001b[1;33m,\u001b[0m \u001b[0miterations\u001b[0m\u001b[1;33m)\u001b[0m\u001b[1;33m\u001b[0m\u001b[0m\n\u001b[0m\u001b[0;32m      3\u001b[0m \u001b[1;33m\u001b[0m\u001b[0m\n\u001b[0;32m      4\u001b[0m \u001b[1;32mprint\u001b[0m \u001b[1;34m'Theta found by gradient descent: '\u001b[0m\u001b[1;33m\u001b[0m\u001b[0m\n\u001b[0;32m      5\u001b[0m \u001b[1;32mprint\u001b[0m \u001b[0mtheta\u001b[0m\u001b[1;33m.\u001b[0m\u001b[0mtolist\u001b[0m\u001b[1;33m(\u001b[0m\u001b[1;33m)\u001b[0m\u001b[1;33m\u001b[0m\u001b[0m\n",
        "\u001b[1;31mNameError\u001b[0m: name 'X' is not defined"
       ]
      }
     ],
     "prompt_number": 4
    },
    {
     "cell_type": "code",
     "collapsed": false,
     "input": [
      "# Plot the linear fit (onto to the still active profit/population plot)\n",
      "plt.plot(X[:, 1], X.dot(theta), '-')\n",
      "plt.legend(('Training data', 'Linear regression'), loc='lower right')\n",
      "display()   # matplotlib command is normally plt.show() but this caused issues within iPython Notebook"
     ],
     "language": "python",
     "metadata": {},
     "outputs": [
      {
       "metadata": {},
       "output_type": "display_data",
       "png": "[encoded data removed]",
       "text": [
        "<matplotlib.figure.Figure at 0x7f648c6d7c10>"
       ]
      }
     ],
     "prompt_number": 14
    },
    {
     "cell_type": "code",
     "collapsed": false,
     "input": [
      "# Predict values for population sizes of 35,000 and 70,000\n",
      "\n",
      "print 'For population = 35,000, we predict a profit of', np.dot([1, 3.5], theta)[0] * 10000\n",
      "print 'For population = 70,000, we predict a profit of', np.dot([1, 7], theta)[0] * 10000"
     ],
     "language": "python",
     "metadata": {},
     "outputs": [
      {
       "output_type": "stream",
       "stream": "stdout",
       "text": [
        "For population = 35,000, we predict a profit of 4519.7678677\n",
        "For population = 70,000, we predict a profit of 45342.4501294\n"
       ]
      }
     ],
     "prompt_number": 15
    },
    {
     "cell_type": "heading",
     "level": 2,
     "metadata": {},
     "source": [
      "Part 4: Visualizing J (theta_0, theta_1)"
     ]
    },
    {
     "cell_type": "code",
     "collapsed": false,
     "input": [
      "# Set up grid over which we will calculate J\n",
      "theta0_vals = np.linspace(-10, 10, 100)\n",
      "theta1_vals = np.linspace(-1, 4, 100)\n",
      "\n",
      "J_vals = np.zeros((len(theta0_vals), len(theta1_vals)), dtype=float)\n",
      "\n",
      "# fill out J_vals\n",
      "for i in range(len(theta0_vals)):\n",
      "    for j in range(len(theta1_vals)):\n",
      "        t = np.array([[theta0_vals[i]],[theta1_vals[j]]])\n",
      "        J_vals[i,j] = compute_cost(X, y, t)\n",
      "\n",
      "XX, YY = np.meshgrid(theta0_vals, theta1_vals)  # needed for plot_surface which expects 2D arrays, not 1D"
     ],
     "language": "python",
     "metadata": {},
     "outputs": [],
     "prompt_number": 16
    },
    {
     "cell_type": "code",
     "collapsed": false,
     "input": [
      "# Create plots\n",
      "\n",
      "plt.clf() # clear all figures - matplotlib command\n",
      "clear_output()   # clear all figures - iPython notebook command\n",
      "fig = plt.figure(figsize=(18, 6))  # 18\" wide, 6\" tall but about half this size on iPython notebook\n",
      "\n",
      "# surface plot\n",
      "ax1 = fig.add_subplot(1, 2, 1, projection='3d')\n",
      "plt.xlabel((r'$\\theta_1$'), fontsize=14)\n",
      "plt.ylabel((r'$\\theta_0$'), fontsize=14)\n",
      "cm = plt.cm.get_cmap('jet')\n",
      "p = ax1.plot_surface(YY, XX, J_vals.T, linewidth=0, rstride=1, cstride=1, cmap=cm)  # transposed J_vals to flip axes\n",
      "ax1.set_xlim(ax1.get_xlim()[::-1])  # invert x axis - currently working but may wipe out axis labeling\n",
      "cb = fig.colorbar(p, shrink=0.5)\n",
      "\n",
      "# contour plot\n",
      "# Plot J_vals as 15 contours spaced logarithmically between 0.01 and 100\n",
      "\n",
      "ax2 = fig.add_subplot(1, 2, 2)\n",
      "cnt = ax2.contour(theta0_vals, theta1_vals, J_vals.T, np.logspace(-2, 3, 20), cmap=cm)\n",
      "plt.plot(theta[0], theta[1], 'rx', markersize=10, linewidth=2)\n",
      "plt.xlabel(r'$\\theta_0$', fontsize=14)\n",
      "plt.ylabel(r'$\\theta_1$', fontsize=14)\n",
      "\n",
      "display()   # matplotlib command is normally plt.show()"
     ],
     "language": "python",
     "metadata": {},
     "outputs": [
      {
       "ename": "NameError",
       "evalue": "name 'YY' is not defined",
       "output_type": "pyerr",
       "traceback": [
        "\u001b[1;31m---------------------------------------------------------------------------\u001b[0m\n\u001b[1;31mNameError\u001b[0m                                 Traceback (most recent call last)",
        "\u001b[1;32m<ipython-input-5-f3daf1fc9694>\u001b[0m in \u001b[0;36m<module>\u001b[1;34m()\u001b[0m\n\u001b[0;32m     10\u001b[0m \u001b[0mplt\u001b[0m\u001b[1;33m.\u001b[0m\u001b[0mylabel\u001b[0m\u001b[1;33m(\u001b[0m\u001b[1;33m(\u001b[0m\u001b[1;34mr'$\\theta_0$'\u001b[0m\u001b[1;33m)\u001b[0m\u001b[1;33m,\u001b[0m \u001b[0mfontsize\u001b[0m\u001b[1;33m=\u001b[0m\u001b[1;36m14\u001b[0m\u001b[1;33m)\u001b[0m\u001b[1;33m\u001b[0m\u001b[0m\n\u001b[0;32m     11\u001b[0m \u001b[0mcm\u001b[0m \u001b[1;33m=\u001b[0m \u001b[0mplt\u001b[0m\u001b[1;33m.\u001b[0m\u001b[0mcm\u001b[0m\u001b[1;33m.\u001b[0m\u001b[0mget_cmap\u001b[0m\u001b[1;33m(\u001b[0m\u001b[1;34m'jet'\u001b[0m\u001b[1;33m)\u001b[0m\u001b[1;33m\u001b[0m\u001b[0m\n\u001b[1;32m---> 12\u001b[1;33m \u001b[0mp\u001b[0m \u001b[1;33m=\u001b[0m \u001b[0max1\u001b[0m\u001b[1;33m.\u001b[0m\u001b[0mplot_surface\u001b[0m\u001b[1;33m(\u001b[0m\u001b[0mYY\u001b[0m\u001b[1;33m,\u001b[0m \u001b[0mXX\u001b[0m\u001b[1;33m,\u001b[0m \u001b[0mJ_vals\u001b[0m\u001b[1;33m.\u001b[0m\u001b[0mT\u001b[0m\u001b[1;33m,\u001b[0m \u001b[0mlinewidth\u001b[0m\u001b[1;33m=\u001b[0m\u001b[1;36m0\u001b[0m\u001b[1;33m,\u001b[0m \u001b[0mrstride\u001b[0m\u001b[1;33m=\u001b[0m\u001b[1;36m1\u001b[0m\u001b[1;33m,\u001b[0m \u001b[0mcstride\u001b[0m\u001b[1;33m=\u001b[0m\u001b[1;36m1\u001b[0m\u001b[1;33m,\u001b[0m \u001b[0mcmap\u001b[0m\u001b[1;33m=\u001b[0m\u001b[0mcm\u001b[0m\u001b[1;33m)\u001b[0m  \u001b[1;31m# transposed J_vals to flip axes\u001b[0m\u001b[1;33m\u001b[0m\u001b[0m\n\u001b[0m\u001b[0;32m     13\u001b[0m \u001b[0max1\u001b[0m\u001b[1;33m.\u001b[0m\u001b[0mset_xlim\u001b[0m\u001b[1;33m(\u001b[0m\u001b[0max1\u001b[0m\u001b[1;33m.\u001b[0m\u001b[0mget_xlim\u001b[0m\u001b[1;33m(\u001b[0m\u001b[1;33m)\u001b[0m\u001b[1;33m[\u001b[0m\u001b[1;33m:\u001b[0m\u001b[1;33m:\u001b[0m\u001b[1;33m-\u001b[0m\u001b[1;36m1\u001b[0m\u001b[1;33m]\u001b[0m\u001b[1;33m)\u001b[0m  \u001b[1;31m# invert x axis - currently working but may wipe out axis labeling\u001b[0m\u001b[1;33m\u001b[0m\u001b[0m\n\u001b[0;32m     14\u001b[0m \u001b[0mcb\u001b[0m \u001b[1;33m=\u001b[0m \u001b[0mfig\u001b[0m\u001b[1;33m.\u001b[0m\u001b[0mcolorbar\u001b[0m\u001b[1;33m(\u001b[0m\u001b[0mp\u001b[0m\u001b[1;33m,\u001b[0m \u001b[0mshrink\u001b[0m\u001b[1;33m=\u001b[0m\u001b[1;36m0.5\u001b[0m\u001b[1;33m)\u001b[0m\u001b[1;33m\u001b[0m\u001b[0m\n",
        "\u001b[1;31mNameError\u001b[0m: name 'YY' is not defined"
       ]
      }
     ],
     "prompt_number": 5
    },
    {
     "cell_type": "heading",
     "level": 1,
     "metadata": {},
     "source": [
      "Solution from R point of view"
     ]
    },
    {
     "cell_type": "heading",
     "level": 2,
     "metadata": {},
     "source": [
      "RPart 2: Plotting"
     ]
    },
    {
     "cell_type": "markdown",
     "metadata": {},
     "source": [
      "# References\n",
      "- [Andrew NG](https://www.coursera.org/course/ml)\n",
      "- [Joe Golton](https://github.com/FilterJoe/machine_learning_Ng_iPythonNotebooks/tree/master/)\n",
      "- [Robert Sedgewick and Kevin Wayne](http://introcs.cs.princeton.edu/java/stdlib/)"
     ]
    }
   ],
   "metadata": {}
  }
 ]
}